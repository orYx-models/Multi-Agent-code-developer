{
 "cells": [
  {
   "cell_type": "code",
   "execution_count": 2,
   "id": "e45075a0",
   "metadata": {},
   "outputs": [
    {
     "ename": "TypeError",
     "evalue": "Retry.__init__() got an unexpected keyword argument 'backoff_jitter'",
     "output_type": "error",
     "traceback": [
      "\u001b[0;31m---------------------------------------------------------------------------\u001b[0m",
      "\u001b[0;31mTypeError\u001b[0m                                 Traceback (most recent call last)",
      "Cell \u001b[0;32mIn[2], line 7\u001b[0m\n\u001b[1;32m      4\u001b[0m app_id \u001b[38;5;241m=\u001b[39m \u001b[38;5;124m'\u001b[39m\u001b[38;5;124m544007664\u001b[39m\u001b[38;5;124m'\u001b[39m  \u001b[38;5;66;03m# YouTube app id\u001b[39;00m\n\u001b[1;32m      5\u001b[0m country \u001b[38;5;241m=\u001b[39m \u001b[38;5;124m'\u001b[39m\u001b[38;5;124min\u001b[39m\u001b[38;5;124m'\u001b[39m        \u001b[38;5;66;03m# India\u001b[39;00m\n\u001b[0;32m----> 7\u001b[0m entry \u001b[38;5;241m=\u001b[39m \u001b[43mAppStoreEntry\u001b[49m\u001b[43m(\u001b[49m\u001b[43mapp_id\u001b[49m\u001b[38;5;241;43m=\u001b[39;49m\u001b[43mapp_id\u001b[49m\u001b[43m,\u001b[49m\u001b[43m \u001b[49m\u001b[43mcountry\u001b[49m\u001b[38;5;241;43m=\u001b[39;49m\u001b[43mcountry\u001b[49m\u001b[38;5;241;43m.\u001b[39;49m\u001b[43mlower\u001b[49m\u001b[43m(\u001b[49m\u001b[43m)\u001b[49m\u001b[43m)\u001b[49m\n\u001b[1;32m      9\u001b[0m reviews \u001b[38;5;241m=\u001b[39m []\n\u001b[1;32m     10\u001b[0m \u001b[38;5;28;01mfor\u001b[39;00m r \u001b[38;5;129;01min\u001b[39;00m entry\u001b[38;5;241m.\u001b[39mreviews():  \u001b[38;5;66;03m# This returns an iterator for reviews\u001b[39;00m\n",
      "File \u001b[0;32m/opt/anaconda3/envs/tensorflow/lib/python3.10/site-packages/app_store_web_scraper/_entry.py:85\u001b[0m, in \u001b[0;36mAppStoreEntry.__init__\u001b[0;34m(self, app_id, country, session)\u001b[0m\n\u001b[1;32m     83\u001b[0m \u001b[38;5;28mself\u001b[39m\u001b[38;5;241m.\u001b[39mapp_id \u001b[38;5;241m=\u001b[39m \u001b[38;5;28mint\u001b[39m(app_id)\n\u001b[1;32m     84\u001b[0m \u001b[38;5;28mself\u001b[39m\u001b[38;5;241m.\u001b[39mcountry \u001b[38;5;241m=\u001b[39m country\u001b[38;5;241m.\u001b[39mlower()\n\u001b[0;32m---> 85\u001b[0m \u001b[38;5;28mself\u001b[39m\u001b[38;5;241m.\u001b[39m_session \u001b[38;5;241m=\u001b[39m session \u001b[38;5;129;01mor\u001b[39;00m \u001b[43mAppStoreSession\u001b[49m\u001b[43m(\u001b[49m\u001b[43m)\u001b[49m\n",
      "File \u001b[0;32m/opt/anaconda3/envs/tensorflow/lib/python3.10/site-packages/app_store_web_scraper/_session.py:68\u001b[0m, in \u001b[0;36mAppStoreSession.__init__\u001b[0;34m(self, delay, delay_jitter, retries, retries_backoff_factor, retries_backoff_jitter, retries_backoff_max)\u001b[0m\n\u001b[1;32m     64\u001b[0m \u001b[38;5;28mself\u001b[39m\u001b[38;5;241m.\u001b[39m_delay_jitter \u001b[38;5;241m=\u001b[39m delay_jitter\n\u001b[1;32m     65\u001b[0m \u001b[38;5;28mself\u001b[39m\u001b[38;5;241m.\u001b[39m_made_first_request \u001b[38;5;241m=\u001b[39m \u001b[38;5;28;01mFalse\u001b[39;00m\n\u001b[1;32m     66\u001b[0m \u001b[38;5;28mself\u001b[39m\u001b[38;5;241m.\u001b[39m_http \u001b[38;5;241m=\u001b[39m urllib3\u001b[38;5;241m.\u001b[39mPoolManager(\n\u001b[1;32m     67\u001b[0m     headers\u001b[38;5;241m=\u001b[39m{\u001b[38;5;124m\"\u001b[39m\u001b[38;5;124mUser-Agent\u001b[39m\u001b[38;5;124m\"\u001b[39m: \u001b[38;5;124mf\u001b[39m\u001b[38;5;124m\"\u001b[39m\u001b[38;5;124mapp-store-web-scraper/\u001b[39m\u001b[38;5;132;01m{\u001b[39;00m__version__\u001b[38;5;132;01m}\u001b[39;00m\u001b[38;5;124m\"\u001b[39m},\n\u001b[0;32m---> 68\u001b[0m     retries\u001b[38;5;241m=\u001b[39m\u001b[43murllib3\u001b[49m\u001b[38;5;241;43m.\u001b[39;49m\u001b[43mRetry\u001b[49m\u001b[43m(\u001b[49m\n\u001b[1;32m     69\u001b[0m \u001b[43m        \u001b[49m\u001b[43mtotal\u001b[49m\u001b[38;5;241;43m=\u001b[39;49m\u001b[43mretries\u001b[49m\u001b[43m,\u001b[49m\n\u001b[1;32m     70\u001b[0m \u001b[43m        \u001b[49m\u001b[43mbackoff_factor\u001b[49m\u001b[38;5;241;43m=\u001b[39;49m\u001b[43mretries_backoff_factor\u001b[49m\u001b[43m,\u001b[49m\n\u001b[1;32m     71\u001b[0m \u001b[43m        \u001b[49m\u001b[43mbackoff_jitter\u001b[49m\u001b[38;5;241;43m=\u001b[39;49m\u001b[43mretries_backoff_jitter\u001b[49m\u001b[43m,\u001b[49m\n\u001b[1;32m     72\u001b[0m \u001b[43m        \u001b[49m\u001b[43mbackoff_max\u001b[49m\u001b[38;5;241;43m=\u001b[39;49m\u001b[43mretries_backoff_max\u001b[49m\u001b[43m,\u001b[49m\n\u001b[1;32m     73\u001b[0m \u001b[43m        \u001b[49m\u001b[43mstatus_forcelist\u001b[49m\u001b[38;5;241;43m=\u001b[39;49m\u001b[38;5;28;43mset\u001b[39;49m\u001b[43m(\u001b[49m\u001b[43m[\u001b[49m\u001b[38;5;241;43m429\u001b[39;49m\u001b[43m,\u001b[49m\u001b[43m \u001b[49m\u001b[38;5;241;43m503\u001b[39;49m\u001b[43m]\u001b[49m\u001b[43m)\u001b[49m\u001b[43m,\u001b[49m\n\u001b[1;32m     74\u001b[0m \u001b[43m    \u001b[49m\u001b[43m)\u001b[49m,\n\u001b[1;32m     75\u001b[0m )\n",
      "\u001b[0;31mTypeError\u001b[0m: Retry.__init__() got an unexpected keyword argument 'backoff_jitter'"
     ]
    }
   ],
   "source": [
    "from app_store_web_scraper import AppStoreEntry\n",
    "import pandas as pd\n",
    "\n",
    "app_id = '544007664'  # YouTube app id\n",
    "country = 'in'        # India\n",
    "\n",
    "entry = AppStoreEntry(app_id=app_id, country=country.lower())\n",
    "\n",
    "reviews = []\n",
    "for r in entry.reviews():  # This returns an iterator for reviews\n",
    "    reviews.append(r)\n",
    "\n",
    "df = pd.DataFrame(reviews)\n",
    "df.head()\n",
    "# df.to_csv('youtube_appstore_reviews.csv', index=False)\n"
   ]
  },
  {
   "cell_type": "code",
   "execution_count": null,
   "id": "a6a391d9",
   "metadata": {},
   "outputs": [],
   "source": []
  }
 ],
 "metadata": {
  "kernelspec": {
   "display_name": "tensorflow",
   "language": "python",
   "name": "python3"
  },
  "language_info": {
   "codemirror_mode": {
    "name": "ipython",
    "version": 3
   },
   "file_extension": ".py",
   "mimetype": "text/x-python",
   "name": "python",
   "nbconvert_exporter": "python",
   "pygments_lexer": "ipython3",
   "version": "3.10.16"
  }
 },
 "nbformat": 4,
 "nbformat_minor": 5
}
